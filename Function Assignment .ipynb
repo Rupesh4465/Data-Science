{
 "cells": [
  {
   "cell_type": "markdown",
   "id": "efb91070",
   "metadata": {},
   "source": [
    "# Q1. Which keyword is used to create a function? Create a function to return a list of odd numbers in the range of 1 to 25."
   ]
  },
  {
   "cell_type": "code",
   "execution_count": 15,
   "id": "7866037a",
   "metadata": {},
   "outputs": [],
   "source": [
    "#The keyword used to create a function in Python is def\n",
    "def odd():\n",
    "    oddno=[]\n",
    "    for i in range(1,25):\n",
    "        if i%2!=0:\n",
    "            oddno.append(i)\n",
    "    return oddno"
   ]
  },
  {
   "cell_type": "code",
   "execution_count": 16,
   "id": "233d6635",
   "metadata": {},
   "outputs": [
    {
     "data": {
      "text/plain": [
       "[1, 3, 5, 7, 9, 11, 13, 15, 17, 19, 21, 23]"
      ]
     },
     "execution_count": 16,
     "metadata": {},
     "output_type": "execute_result"
    }
   ],
   "source": [
    "odd()"
   ]
  },
  {
   "cell_type": "markdown",
   "id": "57017a17",
   "metadata": {},
   "source": [
    "# Q2. Why *args and **kwargs is used in some functions? Create a function each for *args and **kwargs to demonstrate their use."
   ]
  },
  {
   "cell_type": "code",
   "execution_count": 17,
   "id": "d9a2b48c",
   "metadata": {},
   "outputs": [],
   "source": [
    "# The *args and **kwargs keywords are used in Python functions to allow the function to accept a variable number of arguments. \n",
    "# *args accepts a variable number of positional arguments, while **kwargs accepts a variable number of keyword arguments."
   ]
  },
  {
   "cell_type": "code",
   "execution_count": 18,
   "id": "2d7554b4",
   "metadata": {},
   "outputs": [
    {
     "name": "stdout",
     "output_type": "stream",
     "text": [
      "10\n",
      "20\n",
      "30\n",
      "40\n",
      "50\n",
      "name rups\n",
      "age 15\n",
      "city Nan\n"
     ]
    }
   ],
   "source": [
    "def demo(*args, **kwargs):\n",
    "  for arg in args:\n",
    "    print(arg)\n",
    "  for key, value in kwargs.items():\n",
    "    print(key, value)\n",
    "demo(10, 20, 30, 40, 50, name=\"rups\", age=15, city=\"Nan\")"
   ]
  },
  {
   "cell_type": "markdown",
   "id": "15efdd54",
   "metadata": {},
   "source": [
    "# Q3.  What is an iterator in python? Name the method used to initialise the iterator object and the method used for iteration. Use these methods to print the first five elements of the given list [2, 4, 6, 8, 10, 12, 14, 16, 18, 20]."
   ]
  },
  {
   "cell_type": "code",
   "execution_count": 19,
   "id": "af1ac089",
   "metadata": {},
   "outputs": [
    {
     "data": {
      "text/plain": [
       "' An iterator in Python is an object that can be used to iterate over a sequence of elements. \\n    Iterators are created using the iter() function, and they can be iterated over using the next() function.\\n    The iter() function takes an iterable object as its argument, and it returns an iterator object for that iterable.'"
      ]
     },
     "execution_count": 19,
     "metadata": {},
     "output_type": "execute_result"
    }
   ],
   "source": [
    "''' An iterator in Python is an object that can be used to iterate over a sequence of elements. \n",
    "    Iterators are created using the iter() function, and they can be iterated over using the next() function.\n",
    "    The iter() function takes an iterable object as its argument, and it returns an iterator object for that iterable.'''"
   ]
  },
  {
   "cell_type": "code",
   "execution_count": 28,
   "id": "5cffd437",
   "metadata": {},
   "outputs": [
    {
     "name": "stdout",
     "output_type": "stream",
     "text": [
      "2\n",
      "4\n",
      "6\n",
      "8\n",
      "10\n"
     ]
    }
   ],
   "source": [
    "no = [2, 4, 6, 8, 10, 12, 14, 16, 18, 20]\n",
    "iterator=iter(no)\n",
    "for i in range(5):\n",
    "    print(next(iterator))"
   ]
  },
  {
   "cell_type": "markdown",
   "id": "f58b4ba0",
   "metadata": {},
   "source": [
    "# Q4.  What is a generator function in python? Why yield keyword is used? Give an example of a generator function."
   ]
  },
  {
   "cell_type": "code",
   "execution_count": 29,
   "id": "aff87d25",
   "metadata": {},
   "outputs": [
    {
     "data": {
      "text/plain": [
       "'A generator function in Python is a function that returns an iterator. \\nGenerator functions are created using the def keyword, but instead of using the return statement, they use the yield statement.\\nThe yield statement is used to produce a value from the generator.\\nWhen a generator function is called, it does not execute the function body immediately. \\nInstead, it returns a generator object that can be iterated over to produce the values.'"
      ]
     },
     "execution_count": 29,
     "metadata": {},
     "output_type": "execute_result"
    }
   ],
   "source": [
    "'''A generator function in Python is a function that returns an iterator. \n",
    "Generator functions are created using the def keyword, but instead of using the return statement, they use the yield statement.\n",
    "The yield statement is used to produce a value from the generator.\n",
    "When a generator function is called, it does not execute the function body immediately. \n",
    "Instead, it returns a generator object that can be iterated over to produce the values.'''"
   ]
  },
  {
   "cell_type": "code",
   "execution_count": 37,
   "id": "c65ade9e",
   "metadata": {},
   "outputs": [
    {
     "data": {
      "text/plain": [
       "<generator object fib at 0x0000025993C899C8>"
      ]
     },
     "execution_count": 37,
     "metadata": {},
     "output_type": "execute_result"
    }
   ],
   "source": [
    "def fib(n):\n",
    "    a,b=0,1\n",
    "    for i in range(n):\n",
    "        yield a\n",
    "        a,b = b, a+b\n",
    "fib(10)"
   ]
  },
  {
   "cell_type": "code",
   "execution_count": 38,
   "id": "ba1de361",
   "metadata": {},
   "outputs": [
    {
     "name": "stdout",
     "output_type": "stream",
     "text": [
      "0\n",
      "1\n",
      "1\n",
      "2\n",
      "3\n",
      "5\n",
      "8\n",
      "13\n",
      "21\n",
      "34\n"
     ]
    }
   ],
   "source": [
    "for i in fib(10):\n",
    "    print(i)"
   ]
  },
  {
   "cell_type": "markdown",
   "id": "72cd2a69",
   "metadata": {},
   "source": [
    "# Q5. Create a generator function for prime numbers less than 1000. Use the next() method to print the first 20 prime numbers."
   ]
  },
  {
   "cell_type": "code",
   "execution_count": 42,
   "id": "270b2100",
   "metadata": {},
   "outputs": [
    {
     "name": "stdout",
     "output_type": "stream",
     "text": [
      "2\n",
      "3\n",
      "5\n",
      "7\n",
      "11\n",
      "13\n",
      "17\n",
      "19\n",
      "23\n",
      "29\n",
      "31\n",
      "37\n",
      "41\n",
      "43\n",
      "47\n",
      "53\n",
      "59\n",
      "61\n",
      "67\n",
      "71\n"
     ]
    }
   ],
   "source": [
    "def prime_num():\n",
    "  i = 2\n",
    "  while i < 1000:\n",
    "    is_prime = True\n",
    "    for j in range(2, i):\n",
    "      if i % j == 0:\n",
    "        is_prime = False\n",
    "        break\n",
    "    if is_prime:\n",
    "      yield i\n",
    "    i += 1\n",
    "prime_numbers = prime_num()\n",
    "for i in range(20):\n",
    "    print(next(prime_numbers))"
   ]
  },
  {
   "cell_type": "markdown",
   "id": "2261c795",
   "metadata": {},
   "source": [
    "# Q6. Write a python program to print the first 10 Fibonacci numbers using a while loop."
   ]
  },
  {
   "cell_type": "code",
   "execution_count": 62,
   "id": "77a4d86a",
   "metadata": {},
   "outputs": [
    {
     "name": "stdout",
     "output_type": "stream",
     "text": [
      "0\n",
      "1\n",
      "1\n",
      "2\n",
      "3\n",
      "5\n",
      "8\n",
      "13\n",
      "21\n",
      "34\n"
     ]
    }
   ],
   "source": [
    "def fib():\n",
    "    count = 0\n",
    "    a,b =0,1\n",
    "    while count<10:\n",
    "        print(a)\n",
    "        a,b = b , a+b\n",
    "        count +=1\n",
    "fib()"
   ]
  },
  {
   "cell_type": "markdown",
   "id": "b61775b9",
   "metadata": {},
   "source": [
    "# Q7. Write a List Comprehension to iterate through the given string: ‘pwskills’.Expected output: ['p', 'w', 's', 'k', 'i', 'l', 'l', 's'] "
   ]
  },
  {
   "cell_type": "code",
   "execution_count": 66,
   "id": "3a099dbc",
   "metadata": {},
   "outputs": [
    {
     "name": "stdout",
     "output_type": "stream",
     "text": [
      "['p', 'w', 's', 'k', 'i', 'l', 'l', 's']\n"
     ]
    }
   ],
   "source": [
    "s = \"pwskills\"\n",
    "l1 = [letter for letter in s]\n",
    "print(l1)"
   ]
  },
  {
   "cell_type": "markdown",
   "id": "9c8fc90b",
   "metadata": {},
   "source": [
    "# Q8. Write a python program to check whether a given number is Palindrome or not using a while loop."
   ]
  },
  {
   "cell_type": "code",
   "execution_count": 68,
   "id": "c55b0f8b",
   "metadata": {},
   "outputs": [
    {
     "name": "stdout",
     "output_type": "stream",
     "text": [
      "Enter a number:1010101\n",
      "The number is palindrome!\n"
     ]
    }
   ],
   "source": [
    "n=int(input(\"Enter a number:\"))\n",
    "temp=n\n",
    "rev=0\n",
    "while(n>0):\n",
    "    dig=n%10\n",
    "    rev=rev*10+dig\n",
    "    n=n//10\n",
    "if(temp==rev):\n",
    "    print(\"The number is palindrome!\")\n",
    "else:\n",
    "    print(\"Not a palindrome!\")\n",
    "    "
   ]
  },
  {
   "cell_type": "markdown",
   "id": "58367b35",
   "metadata": {},
   "source": [
    "# Q9. Write a code to print odd numbers from 1 to 100 using list comprehension.Note: Use a list comprehension to create a list from 1 to 100 and use another List comprehension to filter out odd numbers."
   ]
  },
  {
   "cell_type": "code",
   "execution_count": 77,
   "id": "31e5ce09",
   "metadata": {},
   "outputs": [
    {
     "name": "stdout",
     "output_type": "stream",
     "text": [
      "[1, 3, 5, 7, 9, 11, 13, 15, 17, 19, 21, 23, 25, 27, 29, 31, 33, 35, 37, 39, 41, 43, 45, 47, 49, 51, 53, 55, 57, 59, 61, 63, 65, 67, 69, 71, 73, 75, 77, 79, 81, 83, 85, 87, 89, 91, 93, 95, 97, 99]\n"
     ]
    }
   ],
   "source": [
    "l1 = [number for number in range(1,100)]\n",
    "l2 = [num for num in l1 if num%2!=0]\n",
    "print(l2)"
   ]
  }
 ],
 "metadata": {
  "kernelspec": {
   "display_name": "Python 3 (ipykernel)",
   "language": "python",
   "name": "python3"
  },
  "language_info": {
   "codemirror_mode": {
    "name": "ipython",
    "version": 3
   },
   "file_extension": ".py",
   "mimetype": "text/x-python",
   "name": "python",
   "nbconvert_exporter": "python",
   "pygments_lexer": "ipython3",
   "version": "3.7.16"
  }
 },
 "nbformat": 4,
 "nbformat_minor": 5
}
