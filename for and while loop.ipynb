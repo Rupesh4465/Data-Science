{
 "cells": [
  {
   "cell_type": "code",
   "execution_count": 3,
   "id": "835409ad",
   "metadata": {
    "scrolled": true
   },
   "outputs": [],
   "source": [
    "# 1. Explain with an example each when to use a for loop and a while loop."
   ]
  },
  {
   "cell_type": "code",
   "execution_count": 4,
   "id": "8d28e0b6",
   "metadata": {},
   "outputs": [
    {
     "name": "stdout",
     "output_type": "stream",
     "text": [
      "There are 2 red apples in the basket.\n"
     ]
    }
   ],
   "source": [
    "# for Loop\n",
    "''''We use a for loop in Python when we want to iterate through a collection of items, such as a list or a dictionary, and perform a specific action on each item in the collection.\n",
    "For Example: Suppose we have a basket of apples and we want to count how many apples we have. We can use a for loop to help us count each apple in the basket. \n",
    "             we use a for loop to iterate through the list of apples and count the number of red apples in the basket'''\n",
    "\n",
    "# Creating a list of apples\n",
    "apples = [\"red apple\", \"green apple\", \"yellow apple\", \"red apple\", \"green apple\"]\n",
    "\n",
    "# Using a for loop to count the number of red apples in the basket\n",
    "count = 0\n",
    "for apple in apples:\n",
    "    if apple == \"red apple\":\n",
    "        count += 1\n",
    "        \n",
    "# Printing the count of red apples in the basket\n",
    "print(\"There are\", count, \"red apples in the basket.\")"
   ]
  },
  {
   "cell_type": "code",
   "execution_count": 13,
   "id": "f029795a",
   "metadata": {},
   "outputs": [
    {
     "name": "stdout",
     "output_type": "stream",
     "text": [
      "Please enter your age: -10\n",
      "Please enter your age: 0\n",
      "Please enter your age: 5\n",
      "Your age is: 5\n"
     ]
    }
   ],
   "source": [
    "# while Loop\n",
    "'''We use a for loop in Python when we want to repeat a certain task until a condition is met. \n",
    "For Example: Suppose we want to keep asking someone for their age until they give us a valid input. \n",
    "             We can use a while loop to keep asking until the condition is true. '''\n",
    "\n",
    "# Creating varaible age and assigning value as 0\n",
    "age = 0\n",
    "# Using a while loop will keep asking for input until the user enters a valid age (a positive number)\n",
    "while age <= 0:\n",
    "    age = int(input(\"Please enter your age: \"))\n",
    "\n",
    "# Printing the age\n",
    "print(\"Your age is:\", age)"
   ]
  },
  {
   "cell_type": "code",
   "execution_count": 15,
   "id": "5520496f",
   "metadata": {},
   "outputs": [],
   "source": [
    "#Q2. Write a python program to print the sum and product of the first 10 natural numbers using for and while loop."
   ]
  },
  {
   "cell_type": "code",
   "execution_count": 20,
   "id": "573c9ee1",
   "metadata": {},
   "outputs": [
    {
     "name": "stdout",
     "output_type": "stream",
     "text": [
      "Sum of first 10 natural numbers :  55\n",
      "Product of first 10 natural numbers  :  3628800\n"
     ]
    }
   ],
   "source": [
    "# Calculate the sum and the product of the first 10 natural number using for loop\n",
    "result = 0\n",
    "product = 1\n",
    "for i in range(1,11):\n",
    "    result = result+i\n",
    "    product = product*i\n",
    "    i=i+1\n",
    "\n",
    "print('Sum of first 10 natural numbers : ', result)\n",
    "print('Product of first 10 natural numbers  : ', product)"
   ]
  },
  {
   "cell_type": "code",
   "execution_count": 30,
   "id": "b36688c2",
   "metadata": {},
   "outputs": [
    {
     "name": "stdout",
     "output_type": "stream",
     "text": [
      "Sum of first 10 natural numbers :  55\n",
      "Product of first 10 natural numbers  :  3628800\n"
     ]
    }
   ],
   "source": [
    "# Calculate the sum and the product of the first 10 natural number using while loop\n",
    "result1 = 0\n",
    "product1 = 1\n",
    "i = 1\n",
    "while i<=10:\n",
    "    result1 = result1+i \n",
    "    product1 = product1*i\n",
    "    i=i+1\n",
    "    \n",
    "print('Sum of first 10 natural numbers : ', result1)\n",
    "print('Product of first 10 natural numbers  : ', product1)\n",
    "    "
   ]
  },
  {
   "cell_type": "code",
   "execution_count": null,
   "id": "d41fdc7d",
   "metadata": {},
   "outputs": [],
   "source": [
    "''' Q3. Create a python program to compute the electricity bill for a household.\n",
    "The per-unit charges in rupees are as follows: For the first 100 units, the user will be charged Rs. 4.5 per\n",
    "unit, for the next 100 units, the user will be charged Rs. 6 per unit, and for the next 100 units, the user will\n",
    "be charged Rs. 10 per unit, After 300 units and above the user will be charged Rs. 20 per unit.\n",
    "You are required to take the units of electricity consumed in a month from the user as input.\n",
    "Your program must pass this test case: when the unit of electricity consumed by the user in a month is\n",
    "310, the total electricity bill should be 2250.'''"
   ]
  },
  {
   "cell_type": "code",
   "execution_count": 5,
   "id": "b5c527d9",
   "metadata": {},
   "outputs": [
    {
     "name": "stdout",
     "output_type": "stream",
     "text": [
      "Enter the units of electricity consumed in a month : 310\n",
      "Total Electricity bill : Rs. 2250.0\n"
     ]
    }
   ],
   "source": [
    "# Calculate the Total Electricity bill on the units of electricity consumed by the user  \n",
    "units = 0\n",
    "total = 0\n",
    "while units <= 0:\n",
    "    units = int(input('Enter the units of electricity consumed in a month : '))\n",
    "    if units <= 100:\n",
    "        total = units * 4.5\n",
    "    elif units >100 and units <=200:\n",
    "        total = 100 * 4.5 + (units-100)*6\n",
    "    elif units >200 and units <=300:\n",
    "        total = 100 * 4.5 + 100 * 6 + (units-200) * 10\n",
    "    elif units >300:\n",
    "        total = 100 * 4.5 + 100 * 6 + 100 * 10 + (units - 300) * 20\n",
    "    print(\"Total Electricity bill : Rs.\", total)\n",
    "    "
   ]
  },
  {
   "cell_type": "code",
   "execution_count": 3,
   "id": "45e24132",
   "metadata": {},
   "outputs": [
    {
     "name": "stdout",
     "output_type": "stream",
     "text": [
      "Enter the number of households: 1\n",
      "Enter the number of units consumed by household 1: 310\n",
      "Electricity bill for household 1: Rs. 2250.0\n"
     ]
    }
   ],
   "source": [
    "# Calculate the electricity bill for each household one by one, based on the number of units consumed.  \n",
    "num_households = int(input(\"Enter the number of households: \"))\n",
    "\n",
    "for i in range(num_households):\n",
    "    units = int(input(\"Enter the number of units consumed by household \" + str(i+1) + \": \"))\n",
    "    total = 0\n",
    "    if units <= 100:\n",
    "        total = units * 4.5\n",
    "    elif units <= 200:\n",
    "        total = 100 * 4.5 + (units-100) * 6\n",
    "    elif units <= 300:\n",
    "        total = 100 * 4.5 + 100 * 6 + (units-200) * 10\n",
    "    else:\n",
    "        total = 100 * 4.5 + 100 * 6 + 100 * 10 + (units-300) * 20\n",
    "    print(\"Electricity bill for household \" + str(i+1) + \": Rs.\", total)\n"
   ]
  },
  {
   "cell_type": "code",
   "execution_count": 4,
   "id": "2404e5bb",
   "metadata": {},
   "outputs": [
    {
     "data": {
      "text/plain": [
       "' Q4. Create a list of numbers from 1 to 100. Use for loop and while loop to calculate the cube of each\\nnumber and if the cube of that number is divisible by 4 or 5 then append that number in a list and print\\nthat list.'"
      ]
     },
     "execution_count": 4,
     "metadata": {},
     "output_type": "execute_result"
    }
   ],
   "source": [
    "''' Q4. Create a list of numbers from 1 to 100. Use for loop and while loop to calculate the cube of each\n",
    "number and if the cube of that number is divisible by 4 or 5 then append that number in a list and print\n",
    "that list.'''"
   ]
  },
  {
   "cell_type": "code",
   "execution_count": 10,
   "id": "791dbeff",
   "metadata": {},
   "outputs": [
    {
     "name": "stdout",
     "output_type": "stream",
     "text": [
      "[2, 4, 5, 6, 8, 10, 12, 14, 15, 16, 18, 20, 22, 24, 25, 26, 28, 30, 32, 34, 35, 36, 38, 40, 42, 44, 45, 46, 48, 50, 52, 54, 55, 56, 58, 60, 62, 64, 65, 66, 68, 70, 72, 74, 75, 76, 78, 80, 82, 84, 85, 86, 88, 90, 92, 94, 95, 96, 98, 100]\n",
      "[2, 4, 5, 6, 8, 10, 12, 14, 15, 16, 18, 20, 22, 24, 25, 26, 28, 30, 32, 34, 35, 36, 38, 40, 42, 44, 45, 46, 48, 50, 52, 54, 55, 56, 58, 60, 62, 64, 65, 66, 68, 70, 72, 74, 75, 76, 78, 80, 82, 84, 85, 86, 88, 90, 92, 94, 95, 96, 98, 100]\n"
     ]
    }
   ],
   "source": [
    "# using for loop\n",
    "cube = []\n",
    "for i in range(1, 101):\n",
    "    if (i**3)%4==0 or (i**3)%5==0 :\n",
    "        cube.append(i)\n",
    "print(cube)\n",
    "\n",
    "#using while loop\n",
    "cube1 = []\n",
    "num = 1\n",
    "while num <= 100:\n",
    "    if (num**3)%4==0 or (num**3)%5==0 :\n",
    "        cube1.append(num)\n",
    "    num += 1\n",
    "print(cube1)"
   ]
  },
  {
   "cell_type": "code",
   "execution_count": 6,
   "id": "988d0082",
   "metadata": {},
   "outputs": [
    {
     "data": {
      "text/plain": [
       "' Q5 Write a program to filter count vowels in the below-given string.\\nstring = \"I want to become a data scientist\"\\n'"
      ]
     },
     "execution_count": 6,
     "metadata": {},
     "output_type": "execute_result"
    }
   ],
   "source": [
    "''' Q5 Write a program to filter count vowels in the below-given string.\n",
    "string = \"I want to become a data scientist\"\n",
    "'''"
   ]
  },
  {
   "cell_type": "code",
   "execution_count": 13,
   "id": "100684a6",
   "metadata": {},
   "outputs": [
    {
     "name": "stdout",
     "output_type": "stream",
     "text": [
      "The count of vowels in the given string is :  12\n"
     ]
    }
   ],
   "source": [
    "string = 'I want to become a data scientist'\n",
    "count = 0\n",
    "for i in string:\n",
    "    if i=='A' or i=='E' or i=='I' or i=='O' or i=='U' or i=='u' or i=='a' or i=='e' or i=='i' or i=='o':\n",
    "        count = count + 1\n",
    "print('The count of vowels in the given string is : ',count)"
   ]
  },
  {
   "cell_type": "code",
   "execution_count": null,
   "id": "dfb30091",
   "metadata": {},
   "outputs": [],
   "source": []
  }
 ],
 "metadata": {
  "kernelspec": {
   "display_name": "Python 3 (ipykernel)",
   "language": "python",
   "name": "python3"
  },
  "language_info": {
   "codemirror_mode": {
    "name": "ipython",
    "version": 3
   },
   "file_extension": ".py",
   "mimetype": "text/x-python",
   "name": "python",
   "nbconvert_exporter": "python",
   "pygments_lexer": "ipython3",
   "version": "3.7.16"
  }
 },
 "nbformat": 4,
 "nbformat_minor": 5
}
