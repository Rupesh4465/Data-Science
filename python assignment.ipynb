{
 "cells": [
  {
   "cell_type": "code",
   "execution_count": null,
   "id": "a2f778f3",
   "metadata": {},
   "outputs": [],
   "source": [
    "# Q1  Who developed Python Programming Language?"
   ]
  },
  {
   "cell_type": "code",
   "execution_count": null,
   "id": "da81e684",
   "metadata": {},
   "outputs": [],
   "source": [
    "''' \n",
    "Python was created by Guido van Rossum in the late 1980s while he was working at the National Research Institute for \n",
    "Mathematics and Computer Science in the Netherlands. Van Rossum started working on Python in December 1989, \n",
    "and its first public release, Python 0.9.0, came out in \n",
    "February 1991. Since then, Python has been continuously developed by a community of volunteers and maintained \n",
    "by the Python Software Foundation.\n",
    "'''"
   ]
  },
  {
   "cell_type": "code",
   "execution_count": null,
   "id": "acdb32e3",
   "metadata": {},
   "outputs": [],
   "source": [
    "# Q2 Whch type OF Programming does Python support?"
   ]
  },
  {
   "cell_type": "code",
   "execution_count": null,
   "id": "8db1e141",
   "metadata": {},
   "outputs": [],
   "source": [
    "''' \n",
    "Python supports several programming paradigms, including:\n",
    "1.Procedural programming\n",
    "2.Object-oriented programming (OOP)\n",
    "3.Functional programming\n",
    "4.Aspect-oriented programming (AOP)\n",
    "Python's support for multiple paradigms makes it a versatile programming language that can be used for a wide range \n",
    "of applications, from web development to scientific computing and data analysis.\n",
    "'''"
   ]
  },
  {
   "cell_type": "code",
   "execution_count": null,
   "id": "6acc4ac7",
   "metadata": {},
   "outputs": [],
   "source": [
    "# Q3 Is Python case- sensitive when dealing with identifiers?"
   ]
  },
  {
   "cell_type": "code",
   "execution_count": null,
   "id": "1adcd26f",
   "metadata": {},
   "outputs": [],
   "source": [
    "'''\n",
    "Yes, Python is case-sensitive when dealing with identifiers such as variable names, function names, and class names.\n",
    "This means that identifiers with different capitalization are considered different and distinct.\n",
    "\n",
    "For example, the variable name \"age\" is not the same as \"Age\" or \"AGE\". \n",
    "            They are all considered different variables in Python.\n",
    "\n",
    "It's important to be consistent with capitalization when using identifiers in Python to avoid errors and confusion in your code.\n",
    "'''"
   ]
  },
  {
   "cell_type": "code",
   "execution_count": null,
   "id": "98763539",
   "metadata": {},
   "outputs": [],
   "source": [
    "# Q4 What is the correct extension of  the Python file?"
   ]
  },
  {
   "cell_type": "code",
   "execution_count": null,
   "id": "2f74f139",
   "metadata": {},
   "outputs": [],
   "source": [
    "'''\n",
    "The correct extension for a Python file is \".py\".\n",
    "\n",
    "When you save a Python program, you should give it a name that reflects its purpose and \n",
    "end the file name with the \".py\" extension.\n",
    "\n",
    "For example, if you are creating a Python program to calculate the area of a circle, \n",
    "you might name your file \"circle_area.py\".\n",
    "\n",
    "This extension tells the operating system and text editor that the file contains Python code and\n",
    "should be executed using the Python interpreter.\n",
    "'''"
   ]
  },
  {
   "cell_type": "code",
   "execution_count": null,
   "id": "1451ccb0",
   "metadata": {},
   "outputs": [],
   "source": [
    "# Q5 Is Python code compiled or interpreted?"
   ]
  },
  {
   "cell_type": "code",
   "execution_count": null,
   "id": "5c88fa76",
   "metadata": {},
   "outputs": [],
   "source": [
    "'''\n",
    "Python is an interpreted language, meaning that the source code is executed directly by an interpreter \n",
    "without being compiled into machine code beforehand.\n",
    "\n",
    "When a Python program is executed, the interpreter reads and translates the code into bytecodes,\n",
    "which are then executed by the Python virtual machine. This process happens dynamically at runtime, \n",
    "allowing for more flexibility and ease of development.\n",
    "\n",
    "While Python is generally considered to be an interpreted language, there are tools like PyInstaller, \n",
    "PyOxidizer, and cx_Freeze that can be used to package Python code into standalone executables \n",
    "that can be run on other computers without requiring a Python interpreter to be installed. \n",
    "These tools essentially compile the Python code into executable binary files, \n",
    "but they still rely on the Python interpreter to execute the code.\n",
    "\n",
    "'''"
   ]
  },
  {
   "cell_type": "code",
   "execution_count": null,
   "id": "570ae44e",
   "metadata": {},
   "outputs": [],
   "source": [
    "# Q6 Name few Blocks of code used to define In Python language"
   ]
  },
  {
   "cell_type": "code",
   "execution_count": null,
   "id": "c952f0f8",
   "metadata": {},
   "outputs": [],
   "source": [
    "'''\n",
    "In Python, there are several block structures used to define code, including:\n",
    "\n",
    "If statements: used to execute a block of code if a condition is true.\n",
    "if condition:\n",
    "    # code to execute if condition is true\n",
    "    \n",
    "For loops: used to iterate over a sequence of values and execute a block of code for each iteration.\n",
    "for variable in sequence:\n",
    "    # code to execute for each iteration\n",
    "    \n",
    "While loops: used to repeatedly execute a block of code as long as a condition is true.\n",
    "while condition:\n",
    "    # code to execute while condition is true\n",
    "    \n",
    "Functions: used to define reusable blocks of code that can be called from other parts of the program.\n",
    "def function_name(arguments):\n",
    "    # code to execute when the function is called\n",
    "    return value\n",
    "    \n",
    "Classes: used to define user-defined data types and their associated methods.\n",
    "class ClassName:\n",
    "    def __init__(self, arguments):\n",
    "        # code to initialize the object\n",
    "    def method_name(self, arguments):\n",
    "        # code to execute when the method is called\n",
    "        \n",
    "These are just a few examples of the block structures used in Python.\n",
    "There are many more, and they can be combined and nested in various ways to create complex programs.\n",
    "'''\n",
    "\n",
    "\n"
   ]
  },
  {
   "cell_type": "code",
   "execution_count": null,
   "id": "0eec2b95",
   "metadata": {},
   "outputs": [],
   "source": [
    "# Q7 State a character used to give single-line comments in Python?"
   ]
  },
  {
   "cell_type": "code",
   "execution_count": null,
   "id": "97935ca4",
   "metadata": {},
   "outputs": [],
   "source": [
    "'''\n",
    "In Python, a hash character (#) is used to indicate a single-line comment.\n",
    "Any text that appears after a hash character on a line is ignored by the Python interpreter and is treated as a comment.\n",
    "'''"
   ]
  },
  {
   "cell_type": "code",
   "execution_count": null,
   "id": "199b6ccf",
   "metadata": {},
   "outputs": [],
   "source": [
    "# Q8 Mention functions which can help us to find the version of python that we are currently working on?"
   ]
  },
  {
   "cell_type": "code",
   "execution_count": null,
   "id": "6465ff2c",
   "metadata": {},
   "outputs": [],
   "source": [
    "'''\n",
    "There are several functions that can be used to determine the version of Python that is currently installed and running. \n",
    "Here are a few examples:\n",
    "\n",
    "sys.version: This function returns a string containing the version number of the Python interpreter.\n",
    "import sys\n",
    "print(sys.version)\n",
    "\n",
    "platform.python_version(): This function returns a string containing the version number of the Python interpreter \n",
    "and additional information about the platform.\n",
    "import platform\n",
    "print(platform.python_version())\n",
    "\n",
    "sys.version_info: This function returns a tuple containing the major, minor, and micro version numbers of the Python interpreter.\n",
    "import sys\n",
    "print(sys.version_info)\n",
    "\n",
    "These functions can be useful for determining which version of Python is installed and for checking compatibility \n",
    "with libraries and other software that may require a specific version of Python.\n",
    "'''"
   ]
  },
  {
   "cell_type": "code",
   "execution_count": null,
   "id": "dd4e9c0a",
   "metadata": {},
   "outputs": [],
   "source": [
    "# Q9 Python supports the creation of anonymous functions at runtime, using a construst called _________________"
   ]
  },
  {
   "cell_type": "code",
   "execution_count": null,
   "id": "8b80d38a",
   "metadata": {},
   "outputs": [],
   "source": [
    "'''\n",
    "Python supports the creation of anonymous functions at runtime, using a construct called \n",
    "\"lambda functions\" or simply\"lambda expressions\".\n",
    "\n",
    "Lambda functions are small, single-expression functions that can be defined inline without a specific name. \n",
    "They are often used to create short, simple functions that are used only once and don't require a separate definition.\n",
    "\n",
    "Lambda functions are created using the lambda keyword, followed by the function arguments and \n",
    "a single expression that is evaluated and returned when the function is called. Here's an example:\n",
    "# Define a lambda function that adds two numbers\n",
    "add = lambda x, y: x + y\n",
    "# Call the lambda function\n",
    "result = add(2, 3)\n",
    "print(result) \n",
    "\n",
    "# Output: 5\n",
    "\n",
    "In this example, we define a lambda function called add that takes two arguments and returns their sum. \n",
    "We then call the add function with arguments 2 and 3, which returns 5.\n",
    "'''"
   ]
  },
  {
   "cell_type": "code",
   "execution_count": null,
   "id": "6d355421",
   "metadata": {},
   "outputs": [],
   "source": [
    "# Q10 What does pip stand for python?"
   ]
  },
  {
   "cell_type": "code",
   "execution_count": null,
   "id": "74ac8f56",
   "metadata": {},
   "outputs": [],
   "source": [
    "'''\n",
    "pip stands for \"Pip Installs Packages\".\n",
    "pip is the package installer for Python that allows you to easily install, upgrade, and \n",
    "remove third-party packages and libraries from the Python Package Index (PyPI) or other package repositories.\n",
    "'''"
   ]
  },
  {
   "cell_type": "code",
   "execution_count": null,
   "id": "6ff2a6f7",
   "metadata": {},
   "outputs": [],
   "source": [
    "# Q11 Mention a few build-in functions in python?"
   ]
  },
  {
   "cell_type": "code",
   "execution_count": null,
   "id": "e018ac0a",
   "metadata": {},
   "outputs": [],
   "source": [
    "'''\n",
    "Python comes with a large number of built-in functions that can be used for a variety of tasks. Here are a few examples:\n",
    "\n",
    "print(): used to display text or variables to the console.\n",
    "\n",
    "len(): used to determine the length of a string, list, tuple, dictionary, or other iterable object.\n",
    "\n",
    "input(): used to get user input from the console.\n",
    "\n",
    "int(), float(), str(): used to convert values between different data types.\n",
    "\n",
    "range(): used to generate a sequence of numbers.\n",
    "\n",
    "sorted(): used to sort a list or other iterable object.\n",
    "\n",
    "type(): used to determine the data type of a value or variable.\n",
    "\n",
    "abs(): used to get the absolute value of a number.\n",
    "\n",
    "max(), min(): used to find the maximum or minimum value in a list or other iterable object.\n",
    "\n",
    "sum(): used to add up the elements in a list or other iterable object.\n",
    "\n",
    "These are just a few examples of the built-in functions available in Python. \n",
    "There are many more, and you can also create your own functions to perform specific tasks.\n",
    "'''"
   ]
  },
  {
   "cell_type": "code",
   "execution_count": null,
   "id": "611ec4cb",
   "metadata": {},
   "outputs": [],
   "source": [
    "# Q12 When is the maximum possible length of on identifier in Python?"
   ]
  },
  {
   "cell_type": "code",
   "execution_count": null,
   "id": "0cf9439f",
   "metadata": {},
   "outputs": [],
   "source": [
    "'''\n",
    "In Python, the maximum possible length of an identifier (variable name, function name, etc.) \n",
    "is not specifically defined or limited. \n",
    "However, in practice, there are some practical limitations to the length of identifiers that you can use.\n",
    "\n",
    "According to the Python documentation, identifiers can be of any length and can consist of letters \n",
    "(both lowercase and uppercase), digits, and underscores. However, they must begin with a letter or underscore \n",
    "and cannot contain spaces or other special characters.\n",
    "\n",
    "In general, it is a good practice to keep your variable and function names concise \n",
    "and descriptive, rather than overly long or complicated. This makes your code easier to read and understand, \n",
    "and can help avoid errors and typos.\n",
    "\n",
    "While there is no strict limit on the length of identifiers in Python, it is generally a good idea to \n",
    "keep them reasonably short and meaningful. Most code editors and IDEs also provide autocomplete features \n",
    "that can help you avoid having to type long names repeatedly.\n",
    "'''"
   ]
  },
  {
   "cell_type": "code",
   "execution_count": null,
   "id": "f6ff9fee",
   "metadata": {},
   "outputs": [],
   "source": [
    "# Q13 When are the benefits of using Python?"
   ]
  },
  {
   "cell_type": "code",
   "execution_count": null,
   "id": "acbd9688",
   "metadata": {},
   "outputs": [],
   "source": [
    "'''\n",
    "There are many benefits to using Python as a programming language. Here are some of the key advantages:\n",
    "\n",
    "Easy to learn and use: Python has a simple syntax and a large standard library, which makes it easy to learn and use. \n",
    "                       It's a great language for beginners, but also powerful enough for experienced developers.\n",
    "\n",
    "Versatile: Python can be used for a wide range of applications, including web development, data analysis,\n",
    "           machine learning, scientific computing, and more.\n",
    "\n",
    "Open source: Python is an open-source language, which means that it is freely available to use and distribute.\n",
    "             It also has a large and active community of developers who contribute to the language and its ecosystem \n",
    "             of libraries and tools.\n",
    "\n",
    "Large ecosystem of libraries and tools: Python has a vast ecosystem of libraries and tools that can help you get your work \n",
    "                                        done more efficiently. This includes libraries for data analysis, machine learning, \n",
    "                                        web development, scientific computing, and more.\n",
    "\n",
    "Cross-platform: Python is a cross-platform language, which means that you can run the same code on different operating systems,\n",
    "                such as Windows, macOS, and Linux.\n",
    "\n",
    "Easy to read and maintain: Python code is easy to read and maintain, which makes it ideal for collaborative development\n",
    "                           and long-term projects.\n",
    "\n",
    "High-level language: Python is a high-level language, which means that it abstracts away many of the low-level \n",
    "                     details of computer hardware and memory management. This makes it easier to write code that \n",
    "                     is concise and expressive.\n",
    "\n",
    "These are just a few of the many benefits of using Python as a programming language.\n",
    "'''"
   ]
  },
  {
   "cell_type": "code",
   "execution_count": null,
   "id": "7ddb1bed",
   "metadata": {},
   "outputs": [],
   "source": [
    "# Q14 How is memory managed in Python?"
   ]
  },
  {
   "cell_type": "code",
   "execution_count": null,
   "id": "a591dfab",
   "metadata": {},
   "outputs": [],
   "source": [
    "'''\n",
    "Memory management in Python is handled automatically by the Python interpreter using a system called reference counting. \n",
    "Every object in Python has a reference count, which keeps track of how many references (i.e., variables, data structures, etc.)\n",
    "point to the object. When the reference count of an object reaches zero, it is automatically deleted from memory.\n",
    "\n",
    "In addition to reference counting, Python also uses a system called garbage collection to deal with circular references. \n",
    "A circular reference occurs when two or more objects refer to each other in a way that creates a loop. \n",
    "In this case, reference counting alone would not be sufficient to delete the objects from memory, as their reference \n",
    "counts would never reach zero. The garbage collector periodically checks for circular references and deletes the objects \n",
    "that are involved in them.\n",
    "\n",
    "Python also provides a few tools for managing memory manually, such as the gc module, which allows you to control the \n",
    "garbage collector, and the sys module, which provides information about the memory usage of your program.\n",
    "\n",
    "Overall, Python's memory management system is designed to be efficient and easy to use, allowing developers to \n",
    "focus on writing code without worrying too much about memory management.\n",
    "'''"
   ]
  },
  {
   "cell_type": "code",
   "execution_count": null,
   "id": "2e4cad91",
   "metadata": {},
   "outputs": [],
   "source": [
    "# Q15 How to install Python on Windows and set path variables? "
   ]
  },
  {
   "cell_type": "code",
   "execution_count": null,
   "id": "e2346b22",
   "metadata": {},
   "outputs": [],
   "source": [
    "'''\n",
    "To install Python on Windows and set path variables, follow these steps:\n",
    "\n",
    "Download the latest version of Python from the official website (https://www.python.org/downloads/). \n",
    "Choose the appropriate version based on your operating system (32-bit or 64-bit) and the version of Python you want to install.\n",
    "\n",
    "Run the downloaded installer and follow the on-screen instructions to complete the installation process.\n",
    "Choose the \"Add Python to PATH\" option during the installation process to add Python to your system's PATH environment variable.\n",
    "\n",
    "To check that Python is installed and the PATH variable is set correctly, open a command prompt and type \"python\" \n",
    "(without the quotes). This should start the Python interpreter, and you should see the Python version number displayed.\n",
    "\n",
    "If you encounter any issues with the PATH variable, you can manually add it by following these steps:\n",
    "\n",
    "a. Right-click on \"My Computer\" or \"This PC\" and select \"Properties\".\n",
    "\n",
    "b. Click on \"Advanced system settings\" and then click on the \"Environment Variables\" button.\n",
    "\n",
    "c. Under \"System Variables\", scroll down and select \"Path\" and click on \"Edit\".\n",
    "\n",
    "d. Click on \"New\" and add the path to the Python installation directory (e.g., C:\\Python39).\n",
    "\n",
    "e. Click \"OK\" to save the changes and close all windows.\n",
    "\n",
    "f. Open a new command prompt and type \"python\" to confirm that Python is now in your system's PATH environment variable.\n",
    "\n",
    "That's it! You should now have Python installed on your Windows system and the PATH variable set correctly. \n",
    "You can start writing and running Python code from the command prompt or using an integrated development environment (IDE) \n",
    "like PyCharm, Visual Studio Code, or IDLE.\n",
    "\n",
    "'''"
   ]
  },
  {
   "cell_type": "code",
   "execution_count": null,
   "id": "b2f748d6",
   "metadata": {},
   "outputs": [],
   "source": [
    "# Q16 Is indentation required In python?"
   ]
  },
  {
   "cell_type": "code",
   "execution_count": null,
   "id": "bd02bbc0",
   "metadata": {},
   "outputs": [],
   "source": [
    "'''\n",
    "Yes, indentation is required in Python. \n",
    "In Python, indentation is used to define the scope and hierarchy of code blocks, such as loops, functions, \n",
    "and conditional statements. Unlike many other programming languages, which use braces or other symbols to delimit \n",
    "code blocks, Python uses indentation to visually indicate which lines of code are part of a particular block.\n",
    "\n",
    "The standard convention in Python is to use four spaces for each level of indentation.\n",
    "When you write Python code, you need to be careful to use consistent and correct indentation to avoid \n",
    "syntax errors or unexpected behavior.\n",
    "\n",
    "Here's an example of how indentation is used in Python to define a code block:\n",
    "if x > 0:\n",
    "    print(\"x is positive\")\n",
    "    y = x * 2\n",
    "    print(\"the value of y is\", y)\n",
    "else:\n",
    "    print(\"x is not positive\")\n",
    "    y = x / 2\n",
    "    print(\"the value of y is\", y)\n",
    "    \n",
    "In this example, the lines of code that are indented under the if statement are part of the \"if\" block, \n",
    "while the lines of code that are indented under the else statement are part of the \"else\" block. \n",
    "The indentation helps to make the structure of the code clear and easy to read.\n",
    "'''"
   ]
  }
 ],
 "metadata": {
  "kernelspec": {
   "display_name": "Python 3 (ipykernel)",
   "language": "python",
   "name": "python3"
  },
  "language_info": {
   "codemirror_mode": {
    "name": "ipython",
    "version": 3
   },
   "file_extension": ".py",
   "mimetype": "text/x-python",
   "name": "python",
   "nbconvert_exporter": "python",
   "pygments_lexer": "ipython3",
   "version": "3.7.16"
  }
 },
 "nbformat": 4,
 "nbformat_minor": 5
}
